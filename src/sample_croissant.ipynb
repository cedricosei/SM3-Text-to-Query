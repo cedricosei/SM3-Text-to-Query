{
 "cells": [
  {
   "cell_type": "code",
   "execution_count": 9,
   "metadata": {},
   "outputs": [],
   "source": [
    "import mlcroissant as mlc"
   ]
  },
  {
   "cell_type": "code",
   "execution_count": 10,
   "metadata": {},
   "outputs": [
    {
     "name": "stderr",
     "output_type": "stream",
     "text": [
      "WARNING:absl:Found the following 3 warning(s) during the validation:\n",
      "  -  [Metadata(SM3-Text-to-Query)] Property \"https://schema.org/datePublished\" is recommended, but does not exist.\n",
      "  -  [Metadata(SM3-Text-to-Query)] Property \"https://schema.org/license\" is recommended, but does not exist.\n",
      "  -  [Metadata(SM3-Text-to-Query)] Property \"https://schema.org/version\" is recommended, but does not exist.\n"
     ]
    }
   ],
   "source": [
    "dataset = mlc.Dataset(jsonld=\"../data/metadata.json\")"
   ]
  },
  {
   "cell_type": "code",
   "execution_count": 11,
   "metadata": {},
   "outputs": [],
   "source": [
    "records = dataset.records(record_set=\"csv\")"
   ]
  },
  {
   "cell_type": "code",
   "execution_count": 12,
   "metadata": {},
   "outputs": [
    {
     "name": "stdout",
     "output_type": "stream",
     "text": [
      "{'csv/question': b'Please provide names of the patients that are linked with the organization ROYAL OF FAIRHAVEN NURSING CENTER.', 'csv/sql': b\"SELECT DISTINCT p.first, p.last FROM organizations org LEFT JOIN encounters e ON org.id=e.organization LEFT JOIN patients p ON e.patient=p.id WHERE org.name='ROYAL OF FAIRHAVEN NURSING CENTER';\", 'csv/sparql': b\"PREFIX rdf: <http://www.w3.org/1999/02/22-rdf-syntax-ns#> PREFIX rdfs: <http://www.w3.org/2000/01/rdf-schema#> PREFIX syn: <https://knacc.umbc.edu/dae-young/kim/ontologies/synthea#> PREFIX xsd: <http://www.w3.org/2001/XMLSchema#> PREFIX pl: <http://www.w3.org/1999/02/22-rdf-syntax-ns#PlainLiteral> SELECT DISTINCT ?first ?last WHERE { ?organization a syn:Organization; syn:id ?organizationId; syn:name 'ROYAL OF FAIRHAVEN NURSING CENTER'^^pl:. ?encounter a syn:Encounter; syn:organizationId ?organizationId; syn:patientId ?patientId. ?patient a syn:Patient; syn:id ?patientId; syn:first ?first; syn:last ?last. }\", 'csv/mql': b'db.organizations.aggregate([    { $match: { \"NAME\": \"ROYAL OF FAIRHAVEN NURSING CENTER\" } },    { $lookup: {        from: \"patients\",        localField: \"ORGANIZATION_ID\",        foreignField: \"ENCOUNTERS.ORGANIZATION_REF\",        as: \"op\"    }},    { $unwind: \"$op\" },    { $unwind: \"$op.ENCOUNTERS\"},    { $match: { \"NAME\": \"ROYAL OF FAIRHAVEN NURSING CENTER\" } },    { $group: {_id: {first: \"$op.FIRST\", last: \"$op.LAST\"}} },    { $project: {_id: 0, first: \"$_id.first\", last: \"$_id.last\" } }])', 'csv/cypher': b\"MATCH (o:Organization {name: 'ROYAL OF FAIRHAVEN NURSING CENTER'})-[:IS_PERFOMED_AT]->(e:Encounter)<-[:HAS_ENCOUNTER]-(p:Patient) RETURN DISTINCT p.firstName, p.lastName\", 'csv/question_type': b\"['nonWH', 'factual', 'linking']\", 'csv/class': b'organizations'}\n",
      "{'csv/question': b'Who is the patient associated with the claim cee532fb-f8c6-2ebc-308a-0d973da4e5a7?', 'csv/sql': b\"SELECT DISTINCT p.first, p.last FROM claims cl LEFT JOIN patients p ON cl.patientid= p.id WHERE cl.id='cee532fb-f8c6-2ebc-308a-0d973da4e5a7';\", 'csv/sparql': b\"PREFIX rdf: <http://www.w3.org/1999/02/22-rdf-syntax-ns#> PREFIX rdfs: <http://www.w3.org/2000/01/rdf-schema#> PREFIX syn: <https://knacc.umbc.edu/dae-young/kim/ontologies/synthea#> PREFIX xsd: <http://www.w3.org/2001/XMLSchema#> PREFIX uuid: <https://knacc.umbc.edu/dae-young/kim/ontologies/synthea#urn:uuid> SELECT  DISTINCT ?first ?last WHERE {  ?claim a syn:Claim;syn:id 'cee532fb-f8c6-2ebc-308a-0d973da4e5a7'^^uuid:; syn:patientId ?patientId. ?patient a syn:Patient; syn:id ?patientId; syn:first ?first; syn:last ?last.}\", 'csv/mql': b'db.patients.aggregate([    {        $match: {            \"CLAIMS.CLAIM_ID\": \"cee532fb-f8c6-2ebc-308a-0d973da4e5a7\"        }    },    {        $unwind: \"$CLAIMS\"    },    {        $unwind: \"$CLAIMS.CLAIM_TRANSACTIONS\"    },    {        $project: {            _id: 0,             FIRST: 1,            LAST: 1        }    },    {        $group: {            _id: {                FIRST: \"$FIRST\",                LAST: \"$LAST\"            }        }    },    {        $project: {            _id: 0,            FIRST: \"$_id.FIRST\",            LAST: \"$_id.LAST\"        }    }]);', 'csv/cypher': b\"MATCH (p:Patient)-[:HAS_CLAIM]->(c:Claim {id: 'cee532fb-f8c6-2ebc-308a-0d973da4e5a7'}) RETURN DISTINCT p.firstName,p.lastName;\", 'csv/question_type': b\"['WH', 'factual', 'linking']\", 'csv/class': b'claims'}\n",
      "{'csv/question': b'Please provide me the number of medications covered by the payer Cigna Health.', 'csv/sql': b\"SELECT covered_medications FROM payers WHERE name='Cigna Health';\", 'csv/sparql': b\"PREFIX rdf: <http://www.w3.org/1999/02/22-rdf-syntax-ns#> PREFIX rdfs: <http://www.w3.org/2000/01/rdf-schema#> PREFIX syn: <https://knacc.umbc.edu/dae-young/kim/ontologies/synthea#> PREFIX xsd: <http://www.w3.org/2001/XMLSchema#> PREFIX pl: <http://www.w3.org/1999/02/22-rdf-syntax-ns#PlainLiteral> SELECT ?coveredMedications WHERE { ?payer a syn:Payer; syn:name 'Cigna Health'^^pl:; syn:coveredMedications ?coveredMedications. }\", 'csv/mql': b'db.payers.aggregate([    { $match: { \"NAME\": \"Cigna Health\" } },    { $project: { _id: 0, covered_medications: \"$COVERED_MEDICATIONS\" } }])', 'csv/cypher': b\"MATCH (p:Payer {name: 'Cigna Health'}) RETURN p.covered_medications;\", 'csv/question_type': b\"['nonWH', 'factual', 'linking']\", 'csv/class': b'payers'}\n",
      "{'csv/question': b'Is Sithu2412 Siva2309 a donor?', 'csv/sql': b'No answer possible based on given input', 'csv/sparql': b'No answer possible based on given input', 'csv/mql': b'No answer possible based on given input', 'csv/cypher': b'No answer possible based on given input', 'csv/question_type': b\"['nonWH', 'factual']\", 'csv/class': b'unanswerable_medical'}\n",
      "{'csv/question': b'What is the ethnicity of the patient named Britany225 Deckow585?', 'csv/sql': b\"SELECT ethnicity FROM patients WHERE first='Britany225' AND last='Deckow585';\", 'csv/sparql': b\"PREFIX rdf: <http://www.w3.org/1999/02/22-rdf-syntax-ns#> PREFIX rdfs: <http://www.w3.org/2000/01/rdf-schema#> PREFIX syn: <https://knacc.umbc.edu/dae-young/kim/ontologies/synthea#> PREFIX xsd: <http://www.w3.org/2001/XMLSchema#> PREFIX pl: <http://www.w3.org/1999/02/22-rdf-syntax-ns#PlainLiteral> SELECT ?ethnicity WHERE { ?patient a syn:Patient ; syn:first 'Britany225'^^pl:; syn:last 'Deckow585'^^pl:; syn:ethnicity ?ethnicity }\", 'csv/mql': b'db.patients.find({ \"FIRST\": \"Britany225\", \"LAST\": \"Deckow585\" }, { _id: 0, ETHNICITY: 1 })', 'csv/cypher': b\"MATCH (p:Patient {firstName:'Britany225',lastName: 'Deckow585'}) RETURN p.ethnicity;\", 'csv/question_type': b\"['WH', 'factual']\", 'csv/class': b'patients'}\n",
      "{'csv/question': b'How much revenue does the payer NO_INSURANCE generate?', 'csv/sql': b\"SELECT revenue FROM payers WHERE name='NO_INSURANCE';\", 'csv/sparql': b\"PREFIX rdf: <http://www.w3.org/1999/02/22-rdf-syntax-ns#> PREFIX rdfs: <http://www.w3.org/2000/01/rdf-schema#> PREFIX syn: <https://knacc.umbc.edu/dae-young/kim/ontologies/synthea#> PREFIX xsd: <http://www.w3.org/2001/XMLSchema#> PREFIX pl: <http://www.w3.org/1999/02/22-rdf-syntax-ns#PlainLiteral> SELECT ?revenue WHERE { ?payer a syn:Payer; syn:name 'NO_INSURANCE'^^pl:; syn:revenue ?revenue. }\", 'csv/mql': b'db.payers.find({ NAME: \"NO_INSURANCE\" }, { _id: 0, REVENUE: 1 })', 'csv/cypher': b\"MATCH (p:Payer {name: 'NO_INSURANCE'}) RETURN p.revenue;\", 'csv/question_type': b\"['WH', 'factual']\", 'csv/class': b'payers'}\n",
      "{'csv/question': b'What is the modality code and description of the imaging study with the ID 781242f7-dd9c-8a26-181a-65898eb64eb4?', 'csv/sql': b\"SELECT modality_code, modality_description FROM imaging_studies WHERE id='781242f7-dd9c-8a26-181a-65898eb64eb4';\", 'csv/sparql': b\"PREFIX rdf: <http://www.w3.org/1999/02/22-rdf-syntax-ns#> PREFIX rdfs: <http://www.w3.org/2000/01/rdf-schema#> PREFIX syn: <https://knacc.umbc.edu/dae-young/kim/ontologies/synthea#> PREFIX xsd: <http://www.w3.org/2001/XMLSchema#> PREFIX uuid: <https://knacc.umbc.edu/dae-young/kim/ontologies/synthea#urn:uuid> SELECT  ?modalityCode ?modalityDescription WHERE { ?imagingstudy a syn:ImagingStudy; syn:id '781242f7-dd9c-8a26-181a-65898eb64eb4'^^uuid:; syn:modalityCode ?modalityCode; syn:modalityDescription ?modalityDescription. }\", 'csv/mql': b'db.patients.aggregate([    {        $match: {\"ENCOUNTERS.IMAGING_STUDIES.IMAGING_STUDY_ID\": \"781242f7-dd9c-8a26-181a-65898eb64eb4\"}    },    {        $unwind: \"$ENCOUNTERS\"    },    {        $unwind: \"$ENCOUNTERS.IMAGING_STUDIES\"    },    {        $match: {\"ENCOUNTERS.IMAGING_STUDIES.IMAGING_STUDY_ID\": \"781242f7-dd9c-8a26-181a-65898eb64eb4\"}    },    {        $project: {            _id: 0,            MODALITY_CODE: \"$ENCOUNTERS.IMAGING_STUDIES.MODALITY_CODE\",            MODALITY_DESCRIPTION: \"$ENCOUNTERS.IMAGING_STUDIES.MODALITY_DESCRIPTION\"        }    }])', 'csv/cypher': b\"MATCH (i:ImagingStudy {id: '781242f7-dd9c-8a26-181a-65898eb64eb4'})RETURN i.modalityCode,i.modalityDescription;\", 'csv/question_type': b\"['WH', 'factual']\", 'csv/class': b'imaging_studies'}\n",
      "{'csv/question': b'What is the description of the procedure with the code 274804006?', 'csv/sql': b\"SELECT DISTINCT description FROM procedures WHERE code='274804006';\", 'csv/sparql': b\"PREFIX rdf: <http://www.w3.org/1999/02/22-rdf-syntax-ns#> PREFIX rdfs: <http://www.w3.org/2000/01/rdf-schema#> PREFIX syn: <https://knacc.umbc.edu/dae-young/kim/ontologies/synthea#> PREFIX xsd: <http://www.w3.org/2001/XMLSchema#> PREFIX snomed: <https://knacc.umbc.edu/dae-young/kim/ontologies/synthea#snomed:SNOMED-CT> SELECT DISTINCT ?description WHERE { ?procedure a syn:Procedure; syn:code '274804006'^^snomed:; syn:description ?description. } \", 'csv/mql': b'db.patients.aggregate(    [{        $match: {\"ENCOUNTERS.PROCEDURES.CODE\": 274804006}    },    {        $unwind: \"$ENCOUNTERS\"    },    {        $unwind: \"$ENCOUNTERS.PROCEDURES\"    },    {        $match: {\"ENCOUNTERS.PROCEDURES.CODE\": 274804006}    },    {        $group: {            _id: \"$ENCOUNTERS.PROCEDURES.DESCRIPTION\"        }    },    {        $project: {            _id: 0,            description: \"$_id\"        }    },    ]    )', 'csv/cypher': b\"MATCH (p:Procedure {code: '274804006'}) RETURN DISTINCT p.description;\", 'csv/question_type': b\"['WH', 'factual']\", 'csv/class': b'procedures'}\n",
      "{'csv/question': b'Please provide me the organization affiliated with the provider with the ID 6a4daf97-7f0d-3ae8-994e-b4c49b10970b.', 'csv/sql': b\"SELECT org.name FROM providers pr LEFT JOIN organizations org ON pr.organization=org.id WHERE pr.name='Santina680 Dicki44';\", 'csv/sparql': b\"PREFIX rdf: <http://www.w3.org/1999/02/22-rdf-syntax-ns#> PREFIX rdfs: <http://www.w3.org/2000/01/rdf-schema#> PREFIX syn: <https://knacc.umbc.edu/dae-young/kim/ontologies/synthea#> PREFIX xsd: <http://www.w3.org/2001/XMLSchema#> PREFIX uuid: <https://knacc.umbc.edu/dae-young/kim/ontologies/synthea#urn:uuid> SELECT  ?name WHERE { ?provider a syn:Provider; syn:id '6a4daf97-7f0d-3ae8-994e-b4c49b10970b'^^uuid:; syn:organizationId ?organizationId. ?organization a syn:Organization; syn:id ?organization_id; syn:name ?name; }\", 'csv/mql': b'db.providers.aggregate([{$match: {\"PROVIDER_ID\": \"6a4daf97-7f0d-3ae8-994e-b4c49b10970b\"}},{$lookup: {from: \"organizations\",localField: \"ORGANIZATION_REF\",foreignField: \"ORGANIZATION_ID\",as: \"organization\"}},{$unwind: \"$organization\"},{$project: {_id: 0,organization_name: \"$organization.NAME\"}}])', 'csv/cypher': b\"MATCH (o:Organization)-[:IS_PERFORMED_AT]->(p:Provider {id: '6a4daf97-7f0d-3ae8-994e-b4c49b10970b'}) RETURN o.name;\", 'csv/question_type': b\"['nonWH', 'factual', 'linking']\", 'csv/class': b'providers'}\n",
      "{'csv/question': b'Please provide me the payer that paid for the medication amLODIPine 2.5 MG Oral Tablet.', 'csv/sql': b\"SELECT DISTINCT py.name FROM medications med LEFT JOIN payers py ON med.payer=py.id WHERE med.description='amLODIPine 2.5 MG Oral Tablet';\", 'csv/sparql': b\"PREFIX rdf: <http://www.w3.org/1999/02/22-rdf-syntax-ns#> PREFIX rdfs: <http://www.w3.org/2000/01/rdf-schema#> PREFIX syn: <https://knacc.umbc.edu/dae-young/kim/ontologies/synthea#> PREFIX xsd: <http://www.w3.org/2001/XMLSchema#> PREFIX pl: <http://www.w3.org/1999/02/22-rdf-syntax-ns#PlainLiteral> SELECT DISTINCT ?description WHERE { ?medication a syn:Medication; syn:description 'amLODIPine 2.5 MG Oral Tablet'^^pl:; syn:payerId ?payerId. ?payer a syn:Payer; syn:id ?payerId; syn:name ?name.}\", 'csv/mql': b'db.patients.aggregate([    { $match: { \"ENCOUNTERS.MEDICATIONS.DESCRIPTION\": \"amLODIPine 2.5 MG Oral Tablet\" } },    { $lookup: {            from: \"payers\",            localField: \"ENCOUNTERS.PAYER_REF\",            foreignField: \"PAYER_ID\",            as: \"patient_payers\"        }},    { $unwind: \"$ENCOUNTERS\" },    { $unwind: \"$ENCOUNTERS.MEDICATIONS\" },    { $unwind: \"$patient_payers\"},    { $match: { \"ENCOUNTERS.MEDICATIONS.DESCRIPTION\": \"amLODIPine 2.5 MG Oral Tablet\" } },    { $group: {        _id: \"$patient_payers.NAME\"    }},    { $project: { _id: 0, payer: \"$_id\" } }])', 'csv/cypher': b\"MATCH (py:Payer)-[:HAS_COVERED]->(m:Medication {description: 'amLODIPine 2.5 MG Oral Tablet'}) RETURN DISTINCT py.name;\", 'csv/question_type': b\"['nonWH', 'factual', 'linking']\", 'csv/class': b'medications'}\n",
      "{'csv/question': b'What is the date of the immunization Td (adult)  5 Lf tetanus toxoid  preservative free  adsorbed?', 'csv/sql': b\"SELECT date FROM immunizations WHERE description='Td (adult)  5 Lf tetanus toxoid  preservative free  adsorbed';\", 'csv/sparql': b\"PREFIX rdf: <http://www.w3.org/1999/02/22-rdf-syntax-ns#> PREFIX rdfs: <http://www.w3.org/2000/01/rdf-schema#> PREFIX syn: <https://knacc.umbc.edu/dae-young/kim/ontologies/synthea#> PREFIX xsd: <http://www.w3.org/2001/XMLSchema#> PREFIX pl: <http://www.w3.org/1999/02/22-rdf-syntax-ns#PlainLiteral> SELECT ?date WHERE { ?immunization a syn:Immunization; syn:description 'Td (adult)  5 Lf tetanus toxoid  preservative free  adsorbed'^^pl:; syn:dateTime ?date. }\", 'csv/mql': b'db.patients.aggregate([    { $match: {\"ENCOUNTERS.IMMUNIZATIONS.DESCRIPTION\": \"Td (adult)  5 Lf tetanus toxoid  preservative free  adsorbed\"} },    { $unwind: \"$ENCOUNTERS\" },    { $unwind: \"$ENCOUNTERS.IMMUNIZATIONS\" },    { $match: {\"ENCOUNTERS.IMMUNIZATIONS.DESCRIPTION\": \"Td (adult)  5 Lf tetanus toxoid  preservative free  adsorbed\"} },    { $group: { _id: \"$ENCOUNTERS.IMMUNIZATIONS.DATE\" } },    { $project: { _id: 0, date: \"$_id\" } }])', 'csv/cypher': b\"MATCH (i:Immunization {description: 'Td (adult)  5 Lf tetanus toxoid  preservative free  adsorbed'}) RETURN i.date;\", 'csv/question_type': b\"['WH', 'factual']\", 'csv/class': b'immunizations'}\n",
      "{'csv/question': b'What is the total claim cost encounter 79994ee1-4f23-21e2-9961-29f865b5aac8?', 'csv/sql': b\"SELECT total_claim_cost FROM encounters WHERE id='79994ee1-4f23-21e2-9961-29f865b5aac8';\", 'csv/sparql': b\"PREFIX rdf: <http://www.w3.org/1999/02/22-rdf-syntax-ns#> PREFIX rdfs: <http://www.w3.org/2000/01/rdf-schema#> PREFIX syn: <https://knacc.umbc.edu/dae-young/kim/ontologies/synthea#> PREFIX xsd: <http://www.w3.org/2001/XMLSchema#> PREFIX uuid: <https://knacc.umbc.edu/dae-young/kim/ontologies/synthea#urn:uuid> SELECT  ?totalClaimCost WHERE { ?encounter a syn:Encounter; syn:id '79994ee1-4f23-21e2-9961-29f865b5aac8'^^uuid:; syn:totalClaimCost ?totalClaimCost. }\", 'csv/mql': b'db.patients.aggregate([    { $match: { \"ENCOUNTERS.ENCOUNTER_ID\": \"79994ee1-4f23-21e2-9961-29f865b5aac8\" } },    { $unwind: \"$ENCOUNTERS\" },    { $match: { \"ENCOUNTERS.ENCOUNTER_ID\": \"79994ee1-4f23-21e2-9961-29f865b5aac8\" } },    { $project: { _id: 0, total_claim_cost: \"$ENCOUNTERS.TOTAL_CLAIM_COST\" } }])', 'csv/cypher': b\"MATCH (e:Encounter {id: '79994ee1-4f23-21e2-9961-29f865b5aac8'}) RETURN e.claimCost;\", 'csv/question_type': b\"['WH', 'factual', 'linking', 'summarizing']\", 'csv/class': b'encounters'}\n"
     ]
    }
   ],
   "source": [
    "for i, record in enumerate(records):\n",
    "    print(record)\n",
    "    if i > 10:\n",
    "        break"
   ]
  },
  {
   "cell_type": "code",
   "execution_count": null,
   "metadata": {},
   "outputs": [
    {
     "ename": "AttributeError",
     "evalue": "'Dataset' object has no attribute 'files'",
     "output_type": "error",
     "traceback": [
      "\u001b[0;31m---------------------------------------------------------------------------\u001b[0m",
      "\u001b[0;31mAttributeError\u001b[0m                            Traceback (most recent call last)",
      "Cell \u001b[0;32mIn[31], line 1\u001b[0m\n\u001b[0;32m----> 1\u001b[0m file \u001b[38;5;241m=\u001b[39m \u001b[43mdataset\u001b[49m\u001b[38;5;241;43m.\u001b[39;49m\u001b[43mfiles\u001b[49m(file_set\u001b[38;5;241m=\u001b[39m\u001b[38;5;124m\"\u001b[39m\u001b[38;5;124m\"\u001b[39m)[\u001b[38;5;241m0\u001b[39m]\n",
      "\u001b[0;31mAttributeError\u001b[0m: 'Dataset' object has no attribute 'files'"
     ]
    }
   ],
   "source": []
  }
 ],
 "metadata": {
  "kernelspec": {
   "display_name": "mlc",
   "language": "python",
   "name": "python3"
  },
  "language_info": {
   "codemirror_mode": {
    "name": "ipython",
    "version": 3
   },
   "file_extension": ".py",
   "mimetype": "text/x-python",
   "name": "python",
   "nbconvert_exporter": "python",
   "pygments_lexer": "ipython3",
   "version": "3.11.10"
  }
 },
 "nbformat": 4,
 "nbformat_minor": 2
}
